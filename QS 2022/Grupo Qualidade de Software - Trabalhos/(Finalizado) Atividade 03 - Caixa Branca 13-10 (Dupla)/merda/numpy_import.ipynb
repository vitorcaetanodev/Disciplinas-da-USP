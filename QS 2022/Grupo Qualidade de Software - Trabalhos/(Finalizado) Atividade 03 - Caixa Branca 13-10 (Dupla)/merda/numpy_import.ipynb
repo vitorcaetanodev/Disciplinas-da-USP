{
  "nbformat": 4,
  "nbformat_minor": 0,
  "metadata": {
    "colab": {
      "provenance": [],
      "collapsed_sections": []
    },
    "kernelspec": {
      "name": "python3",
      "display_name": "Python 3"
    },
    "language_info": {
      "name": "python"
    }
  },
  "cells": [
    {
      "cell_type": "markdown",
      "source": [
        "MAC119 - Introdução à programação - rmcesar@usp.br"
      ],
      "metadata": {
        "id": "ycpPU6UTUUgK"
      }
    },
    {
      "cell_type": "markdown",
      "source": [
        "# Import"
      ],
      "metadata": {
        "id": "ghjwQsTUKwr1"
      }
    },
    {
      "cell_type": "code",
      "execution_count": null,
      "metadata": {
        "id": "qGJyvDQYKsQj"
      },
      "outputs": [],
      "source": [
        "import math as myMath\n",
        "\n",
        "from math import factorial\n",
        "\n",
        "x = myMath.factorial(10)\n",
        "\n",
        "print(x)\n",
        "\n",
        "y = factorial(5)\n",
        "print(y)"
      ]
    },
    {
      "cell_type": "markdown",
      "source": [
        "# Numpy"
      ],
      "metadata": {
        "id": "a5jANlrfK0VX"
      }
    },
    {
      "cell_type": "code",
      "source": [
        "import numpy as np\n",
        "\n",
        "# criamos duas lists\n",
        "v0 = [1,2,3]\n",
        "v1 = [4,5,6]\n",
        "\n",
        "# transformamos em Numpy Arrays\n",
        "v0 = np.asarray(v0)\n",
        "v1 = np.asarray(v1)\n",
        "\n",
        "print(v0, v1)\n",
        "\n",
        "# operacoes com NP arrays\n",
        "soma = v0+v1\n",
        "\n",
        "print(soma)\n"
      ],
      "metadata": {
        "id": "EOEOt-6mK26m"
      },
      "execution_count": null,
      "outputs": []
    },
    {
      "cell_type": "markdown",
      "source": [
        "# Seno\n",
        "\n",
        "Crie um programa em Python que plote o gráfico de um seno."
      ],
      "metadata": {
        "id": "nOSPLgWvUjgq"
      }
    },
    {
      "cell_type": "code",
      "source": [
        "import matplotlib.pyplot as plt\n",
        "import numpy as np\n",
        "import math\n",
        "\n",
        "def main():\n",
        "  A = float(input('Amplitude: '))\n",
        "  w = float(input('frequencia: '))\n",
        "  n = int(input('numero de amostras: '))\n",
        "\n",
        "  passo = math.pi / n\n",
        "\n",
        "  theta0 = 0\n",
        "  thetaf = 2*math.pi\n",
        "  theta = np.arange(theta0, thetaf, passo)\n",
        "\n",
        "  senoTheta = A * np.sin(w*theta)\n",
        "\n",
        "  fig = plt.figure()\n",
        "  plt.plot(theta, 'r*')\n",
        "  plt.plot(theta)\n",
        "  plt.title(r'$\\theta$')\n",
        "  plt.show()\n",
        "\n",
        "  fig = plt.figure()\n",
        "  plt.plot(theta, senoTheta, 'r*')\n",
        "  plt.plot(theta, senoTheta)\n",
        "  title = 'Seno(theta), A: ' + str(A) + ' w: ' + str(w)\n",
        "  plt.title(title)\n",
        "  plt.show()\n",
        "\n",
        "main()\n",
        "\n",
        "\n"
      ],
      "metadata": {
        "id": "XaPLagJcUhMZ"
      },
      "execution_count": null,
      "outputs": []
    },
    {
      "cell_type": "markdown",
      "source": [
        "# Exercício\n",
        "\n",
        "Crie uma função meuCosseno(x) que calcule o cosseno de $x \\in [0,1)$. Use a série do exercício 6 de https://www.ime.usp.br/~macmulti/exercicios/reais/index.html\n",
        "\n",
        "Crie um programa Python que calcule o cosseno de $x$ usando sua função meuCosseno para um Numpy array $\\theta \\in [0,1)$. Plote seu resultado sobreposto à função np.cos para comparar ambas as funções."
      ],
      "metadata": {
        "id": "yTHxWxSPfq8f"
      }
    }
  ]
}